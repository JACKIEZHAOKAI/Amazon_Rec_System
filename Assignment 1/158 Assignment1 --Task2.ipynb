{
 "cells": [
  {
   "cell_type": "code",
   "execution_count": 1,
   "metadata": {
    "ExecuteTime": {
     "end_time": "2018-11-19T22:42:30.772662Z",
     "start_time": "2018-11-19T22:40:44.404992Z"
    }
   },
   "outputs": [
    {
     "name": "stdout",
     "output_type": "stream",
     "text": [
      "200000\n",
      "14000\n"
     ]
    }
   ],
   "source": [
    "# basic lib \n",
    "import numpy as np\n",
    "import pandas as pd\n",
    "import gzip\n",
    "from collections import defaultdict\n",
    "import numpy as np\n",
    "\n",
    "# library for machine learning lib \n",
    "from sklearn.feature_extraction.text import TfidfTransformer\n",
    "from sklearn.feature_extraction.text import CountVectorizer\n",
    "from sklearn import svm\n",
    "from sklearn.calibration import CalibratedClassifierCV\n",
    "\n",
    "def readGz(f):\n",
    "    for l in gzip.open(f):\n",
    "        yield eval(l)\n",
    "        \n",
    "        \n",
    "###  reading the training data\n",
    "data = []\n",
    "userRatings = defaultdict(list)\n",
    "\n",
    "for l in readGz(\"train.json.gz\"):\n",
    "    data.append(l)\n",
    "\n",
    "print(len(data))\n",
    "\n",
    "###  reading the test data\n",
    "\n",
    "data_test = []\n",
    "\n",
    "for l in readGz(\"test_Category.json.gz\"):\n",
    "    data_test.append(l)\n",
    "print(len(data_test))\n",
    "\n",
    "df2 = pd.DataFrame(data_test)"
   ]
  },
  {
   "cell_type": "code",
   "execution_count": 2,
   "metadata": {
    "ExecuteTime": {
     "end_time": "2018-11-19T22:42:39.964963Z",
     "start_time": "2018-11-19T22:42:30.804781Z"
    }
   },
   "outputs": [],
   "source": [
    "#convert data to padas\n",
    "df = pd.DataFrame.from_dict(data)\n"
   ]
  },
  {
   "cell_type": "code",
   "execution_count": 11,
   "metadata": {
    "ExecuteTime": {
     "end_time": "2018-11-19T22:59:49.026780Z",
     "start_time": "2018-11-19T22:58:44.385006Z"
    }
   },
   "outputs": [
    {
     "data": {
      "text/plain": [
       "CalibratedClassifierCV(base_estimator=LinearSVC(C=1.0, class_weight=None, dual=True, fit_intercept=True,\n",
       "     intercept_scaling=1, loss='squared_hinge', max_iter=1000,\n",
       "     multi_class='ovr', penalty='l2', random_state=None, tol=0.001,\n",
       "     verbose=0),\n",
       "            cv='prefit', method='sigmoid')"
      ]
     },
     "execution_count": 11,
     "metadata": {},
     "output_type": "execute_result"
    }
   ],
   "source": [
    "### training linearing SVC\n",
    "\n",
    "X_train = df['reviewText']\n",
    "y_train = df['categoryID']\n",
    "\n",
    "count_vect = CountVectorizer()\n",
    "X_train_counts = count_vect.fit_transform(X_train)\n",
    "tf_transformer = TfidfTransformer().fit(X_train_counts)\n",
    "X_train_transformed = tf_transformer.transform(X_train_counts)\n",
    "\n",
    "linear_svc = svm.LinearSVC()\n",
    "clf = linear_svc.fit(X_train_transformed,y_train)\n",
    "\n",
    "calibrated_svc = CalibratedClassifierCV(base_estimator=linear_svc,\n",
    "                                        cv=\"prefit\")\n",
    "\n",
    "calibrated_svc.fit(X_train_transformed,y_train)"
   ]
  },
  {
   "cell_type": "code",
   "execution_count": 12,
   "metadata": {
    "ExecuteTime": {
     "end_time": "2018-11-19T23:00:02.556516Z",
     "start_time": "2018-11-19T23:00:02.512256Z"
    }
   },
   "outputs": [],
   "source": [
    "# function to predict test data \n",
    "\n",
    "def predict_single(row):\n",
    "    reviewText = [row['reviewText']] # each document may contain multiple texts, so has to be a list\n",
    "    p_count = count_vect.transform(reviewText)\n",
    "    p_tfidf = tf_transformer.transform(p_count)\n",
    "    pred_this = calibrated_svc.predict_proba(p_tfidf)\n",
    "    return pred_this\n",
    "\n",
    "\n",
    "def pred2():\n",
    "    pred_matrix = []\n",
    "    \n",
    "    for idx,row in df2.iterrows():\n",
    "        \n",
    "        pred_this = predict_single(row)[0] # prediction is contained in a list\n",
    "        \n",
    "        pred_matrix.append(pred_this)\n",
    "    return pred_matrix\n"
   ]
  },
  {
   "cell_type": "code",
   "execution_count": 13,
   "metadata": {
    "ExecuteTime": {
     "end_time": "2018-11-19T23:01:11.490062Z",
     "start_time": "2018-11-19T23:00:22.150891Z"
    }
   },
   "outputs": [],
   "source": [
    "# function call to predict test set\n",
    "\n",
    "pred_matrix = pred2()\n",
    "\n",
    "df_pred2 = pd.DataFrame(pred_matrix)\n",
    "\n",
    "df_pred2['max_label'] = df_pred2.apply(lambda row: (np.argsort(-row[:5])[0]) ,  axis=1 )\n",
    "\n",
    "prediction = list(df_pred2['max_label'])"
   ]
  },
  {
   "cell_type": "code",
   "execution_count": 14,
   "metadata": {
    "ExecuteTime": {
     "end_time": "2018-11-19T23:01:31.402488Z",
     "start_time": "2018-11-19T23:01:31.269589Z"
    }
   },
   "outputs": [],
   "source": [
    "#  write the prediction to file \n",
    "\n",
    "predictions = open(\"predictions_Category.txt\", 'w')\n",
    "predictions.write(\"reviewerID-reviewHash,category\\n\")\n",
    "for d,p in zip(data_test,prediction):\n",
    "    predictions.write(d['reviewerID']+'-'+d['reviewHash']+','+str(p)+'\\n')\n",
    "predictions.close()\n"
   ]
  },
  {
   "cell_type": "code",
   "execution_count": null,
   "metadata": {},
   "outputs": [],
   "source": []
  }
 ],
 "metadata": {
  "kernelspec": {
   "display_name": "Python 2",
   "language": "python",
   "name": "python2"
  },
  "language_info": {
   "codemirror_mode": {
    "name": "ipython",
    "version": 2
   },
   "file_extension": ".py",
   "mimetype": "text/x-python",
   "name": "python",
   "nbconvert_exporter": "python",
   "pygments_lexer": "ipython2",
   "version": "2.7.15"
  },
  "latex_envs": {
   "LaTeX_envs_menu_present": true,
   "autoclose": false,
   "autocomplete": true,
   "bibliofile": "biblio.bib",
   "cite_by": "apalike",
   "current_citInitial": 1,
   "eqLabelWithNumbers": true,
   "eqNumInitial": 1,
   "hotkeys": {
    "equation": "Ctrl-E",
    "itemize": "Ctrl-I"
   },
   "labels_anchors": false,
   "latex_user_defs": false,
   "report_style_numbering": false,
   "user_envs_cfg": false
  },
  "varInspector": {
   "cols": {
    "lenName": 16,
    "lenType": 16,
    "lenVar": 40
   },
   "kernels_config": {
    "python": {
     "delete_cmd_postfix": "",
     "delete_cmd_prefix": "del ",
     "library": "var_list.py",
     "varRefreshCmd": "print(var_dic_list())"
    },
    "r": {
     "delete_cmd_postfix": ") ",
     "delete_cmd_prefix": "rm(",
     "library": "var_list.r",
     "varRefreshCmd": "cat(var_dic_list()) "
    }
   },
   "types_to_exclude": [
    "module",
    "function",
    "builtin_function_or_method",
    "instance",
    "_Feature"
   ],
   "window_display": false
  }
 },
 "nbformat": 4,
 "nbformat_minor": 2
}
