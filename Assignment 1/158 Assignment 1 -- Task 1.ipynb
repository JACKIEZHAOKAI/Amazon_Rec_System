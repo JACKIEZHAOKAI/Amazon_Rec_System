{
 "cells": [
  {
   "cell_type": "code",
   "execution_count": 183,
   "metadata": {
    "ExecuteTime": {
     "end_time": "2018-11-19T07:52:06.483058Z",
     "start_time": "2018-11-19T07:52:06.451987Z"
    }
   },
   "outputs": [],
   "source": [
    "import gzip\n",
    "from collections import defaultdict\n",
    "import numpy as np\n",
    "import pandas as pd\n",
    "import matplotlib.pyplot as plt\n",
    "from sklearn.utils import shuffle\n",
    "import random, heapq"
   ]
  },
  {
   "cell_type": "code",
   "execution_count": 184,
   "metadata": {
    "ExecuteTime": {
     "end_time": "2018-11-19T07:52:41.711371Z",
     "start_time": "2018-11-19T07:52:06.491199Z"
    }
   },
   "outputs": [
    {
     "name": "stdout",
     "output_type": "stream",
     "text": [
      "total number of reviews:  200000\n",
      "100000\n"
     ]
    }
   ],
   "source": [
    "##############################################################\n",
    "########### reading data into a pandas dataframe #############\n",
    "data = []\n",
    "userRatings = defaultdict(list)\n",
    "\n",
    "def readGz(f):\n",
    "    for l in gzip.open(f):\n",
    "        yield eval(l)\n",
    "#training and validation \n",
    "for l in readGz(\"train.json.gz\"):\n",
    "    data.append(l)\n",
    "\n",
    "print \"total number of reviews: \" , (len(data))\n",
    "df = pd.DataFrame.from_dict(data)\n",
    "\n",
    "\n",
    "validation_neg_pairs = set()\n",
    "for l in open(\"pairs_Purchase_neg.txt\",'r'):\n",
    "    if l.startswith(\"reviewerID\"):\n",
    "        #header\n",
    "        continue\n",
    "    u,i = l.strip().split('-')\n",
    "    validation_neg_pairs.add((u,i))\n",
    "    \n",
    "print(len(validation_neg_pairs))"
   ]
  },
  {
   "cell_type": "markdown",
   "metadata": {
    "ExecuteTime": {
     "end_time": "2018-11-18T10:47:07.142791Z",
     "start_time": "2018-11-18T10:47:07.109330Z"
    }
   },
   "source": [
    "## overview \n",
    "  Since the noise of the data is relatively high, I applied several filters/predictors by common user experience of purchansing. By setting threshold based on statistically analysis, we should obtain a good overal predictor.\n",
    "\n",
    "\n",
    "  1  #### if an item is very poplular, it is highly possible to be purchased,\n",
    "  \n",
    "     Here I found the best thershold of popularity is 20.\n",
    "     \n",
    " \n",
    "  2  ####  if the item category strings match most strings of a user purchased item category,\n",
    "          then highly likely to be purchased.\n",
    "        \n",
    "      Here I found the best threshold is  common strings > 5.\n",
    "      OR   \n",
    "      the Jaccard similarity is larger than 0.17\n",
    "       "
   ]
  },
  {
   "cell_type": "code",
   "execution_count": 208,
   "metadata": {
    "ExecuteTime": {
     "end_time": "2018-11-19T08:03:20.409373Z",
     "start_time": "2018-11-19T08:03:20.387702Z"
    }
   },
   "outputs": [],
   "source": [
    "#setting up best f\n",
    "\n",
    "common_strings = 5\n",
    "\n",
    "Jac_threshold = 0.17\n",
    "\n",
    "Popularity_threshold = 20\n"
   ]
  },
  {
   "cell_type": "code",
   "execution_count": 209,
   "metadata": {
    "ExecuteTime": {
     "end_time": "2018-11-19T08:03:36.281009Z",
     "start_time": "2018-11-19T08:03:36.020494Z"
    }
   },
   "outputs": [],
   "source": [
    "####################################################################\n",
    "############  filter one  category instead of categoryID ########### \n",
    "\n",
    "df_item_cat_text = df[['categories','itemID']]\n",
    "df_item_cat_text_uniq = df_item_cat_text.drop_duplicates(subset=['itemID'])\n",
    "df_item_cat_text_uniq.set_index('itemID',inplace=True)"
   ]
  },
  {
   "cell_type": "code",
   "execution_count": 210,
   "metadata": {
    "ExecuteTime": {
     "end_time": "2018-11-19T08:03:48.699511Z",
     "start_time": "2018-11-19T08:03:48.679346Z"
    }
   },
   "outputs": [],
   "source": [
    "def flatten_cat_word_list(original_list):\n",
    "    item_cat_set = set()\n",
    "    for subcat in original_list:\n",
    "        for cat_str in subcat:\n",
    "            item_cat_set.add(cat_str)\n",
    "    return item_cat_set"
   ]
  },
  {
   "cell_type": "code",
   "execution_count": 211,
   "metadata": {
    "ExecuteTime": {
     "end_time": "2018-11-19T08:04:02.969329Z",
     "start_time": "2018-11-19T08:03:59.076917Z"
    }
   },
   "outputs": [],
   "source": [
    "# flatten the category list into 1d list of an item to set of strings \n",
    "d_item_to_cat_text={}  # itemID to set of string\n",
    "\n",
    "for idx,row in df_item_cat_text_uniq.iterrows():\n",
    "    if idx not in d_item_to_cat_text:\n",
    "        d_item_to_cat_text[idx] = set()\n",
    "    d_item_to_cat_text[idx] |= flatten_cat_word_list(row['categories'])  "
   ]
  },
  {
   "cell_type": "code",
   "execution_count": 212,
   "metadata": {
    "ExecuteTime": {
     "end_time": "2018-11-19T08:04:57.524774Z",
     "start_time": "2018-11-19T08:04:20.063850Z"
    }
   },
   "outputs": [],
   "source": [
    "# flatten the dictionary of userId to text strings \n",
    "d_user_to_cat_text={}  # userID to set of strings\n",
    "\n",
    "for idx, row in df.iterrows():\n",
    "    userId,itemId = row['reviewerID'],row['itemID']\n",
    "    \n",
    "    if userId not in d_user_to_cat_text:\n",
    "        d_user_to_cat_text[userId] = set()\n",
    "        \n",
    "    d_user_to_cat_text[userId] |= d_item_to_cat_text[itemId]"
   ]
  },
  {
   "cell_type": "code",
   "execution_count": 213,
   "metadata": {
    "ExecuteTime": {
     "end_time": "2018-11-19T08:05:23.023877Z",
     "start_time": "2018-11-19T08:05:23.005190Z"
    }
   },
   "outputs": [],
   "source": [
    "# check if the intersection of strings number is larger than 5\n",
    "def similarity(item_cat_text,user_cat_text):\n",
    "    return  len(item_cat_text & user_cat_text) > common_strings \\\n",
    "    or float(len(item_cat_text & user_cat_text)) / len(item_cat_text | user_cat_text)"
   ]
  },
  {
   "cell_type": "code",
   "execution_count": 214,
   "metadata": {
    "ExecuteTime": {
     "end_time": "2018-11-19T08:05:36.416005Z",
     "start_time": "2018-11-19T08:05:36.400295Z"
    }
   },
   "outputs": [],
   "source": [
    "def predictor_category(itemId, userId):\n",
    "\n",
    "    # check itemId or userId do not exist\n",
    "    if itemId not in d_item_to_cat_text or userId not in d_user_to_cat_text:\n",
    "        return False \n",
    "   \n",
    "    # run similarity to predict\n",
    "    return similarity(d_item_to_cat_text[itemId],d_user_to_cat_text[userId]) > Jac_threshold\n"
   ]
  },
  {
   "cell_type": "code",
   "execution_count": 215,
   "metadata": {
    "ExecuteTime": {
     "end_time": "2018-11-19T08:05:50.850021Z",
     "start_time": "2018-11-19T08:05:50.702659Z"
    }
   },
   "outputs": [],
   "source": [
    "####################################################################\n",
    "# ########### filter two ########### \n",
    "# filter the most popular items that have frequency higher than 20\n",
    "\n",
    "items_freq = df['itemID'].value_counts()\n",
    "plt_list = items_freq.value_counts().sort_index()"
   ]
  },
  {
   "cell_type": "code",
   "execution_count": 216,
   "metadata": {
    "ExecuteTime": {
     "end_time": "2018-11-19T08:06:05.377530Z",
     "start_time": "2018-11-19T08:06:04.143269Z"
    }
   },
   "outputs": [
    {
     "data": {
      "text/plain": [
       "<matplotlib.lines.Line2D at 0xa39aec3d0>"
      ]
     },
     "execution_count": 216,
     "metadata": {},
     "output_type": "execute_result"
    },
    {
     "data": {
      "image/png": "[encoded data removed]",
      "text/plain": [
       "<matplotlib.figure.Figure at 0xa378e5fd0>"
      ]
     },
     "metadata": {},
     "output_type": "display_data"
    }
   ],
   "source": [
    "\n",
    "list_num = len(plt_list)\n",
    "\n",
    "x = []\n",
    "y = []\n",
    "counter = 0\n",
    "for item in (plt_list):\n",
    "    x.append(counter)\n",
    "    counter += 1\n",
    "    y.append(item)\n",
    "        \n",
    "plt.title(\"frequency of items VS number of frequency groups\")\n",
    "plt.plot(x,y,'ro')\n",
    "plt.xlabel(\"frequency of items\")\n",
    "plt.ylabel(\"number of frequency groups\")\n",
    "\n",
    "plt.axvline(x = Popularity_threshold)"
   ]
  },
  {
   "cell_type": "code",
   "execution_count": 217,
   "metadata": {
    "ExecuteTime": {
     "end_time": "2018-11-19T08:06:35.878466Z",
     "start_time": "2018-11-19T08:06:35.737052Z"
    },
    "scrolled": true
   },
   "outputs": [
    {
     "name": "stdout",
     "output_type": "stream",
     "text": [
      "popular items:  1742\n"
     ]
    }
   ],
   "source": [
    "# filter items by freq \n",
    "popular_items_freq = items_freq[items_freq > Popularity_threshold]\n",
    "print \"popular items: \", len(popular_items_freq)"
   ]
  },
  {
   "cell_type": "code",
   "execution_count": 218,
   "metadata": {
    "ExecuteTime": {
     "end_time": "2018-11-19T08:06:37.003954Z",
     "start_time": "2018-11-19T08:06:35.928655Z"
    }
   },
   "outputs": [
    {
     "name": "stdout",
     "output_type": "stream",
     "text": [
      "number of line 28001\n",
      "predicted_true 14262\n",
      "predicted_false:  13738\n"
     ]
    }
   ],
   "source": [
    "##################################################################\n",
    "#################### overall predictor ###########################\n",
    "\n",
    "predictions = open(\"predictions_Purchase.txt\", 'w')\n",
    "predicted_true = 0\n",
    "predicted_false = 0\n",
    "lines = 0\n",
    "\n",
    "for l in open(\"pairs_Purchase.txt\"):\n",
    "    lines += 1\n",
    "    if l.startswith(\"reviewerID\"):\n",
    "        #header\n",
    "        predictions.write(l)\n",
    "        continue\n",
    "    u,i = l.strip().split('-')\n",
    "\n",
    "    # check the first predictor, if user purchased this category before \n",
    "    if i in popular_items_freq:\n",
    "        predictions.write(u + '-' + i + \",1\\n\")\n",
    "        predicted_true += 1\n",
    "    else:\n",
    "        if predictor_category(i, u):\n",
    "            predictions.write(u + '-' + i + \",1\\n\")\n",
    "            predicted_true += 1\n",
    "        else:\n",
    "            predictions.write(u + '-' + i + \",0\\n\")\n",
    "            predicted_false += 1\n",
    "            \n",
    "print \"number of line\", lines\n",
    "print \"predicted_true\", predicted_true\n",
    "print \"predicted_false: \", predicted_false\n",
    "\n",
    "predictions.close()"
   ]
  },
  {
   "cell_type": "code",
   "execution_count": null,
   "metadata": {},
   "outputs": [],
   "source": []
  },
  {
   "cell_type": "code",
   "execution_count": null,
   "metadata": {},
   "outputs": [],
   "source": []
  },
  {
   "cell_type": "code",
   "execution_count": null,
   "metadata": {},
   "outputs": [],
   "source": []
  }
 ],
 "metadata": {
  "kernelspec": {
   "display_name": "Python 2",
   "language": "python",
   "name": "python2"
  },
  "language_info": {
   "codemirror_mode": {
    "name": "ipython",
    "version": 2
   },
   "file_extension": ".py",
   "mimetype": "text/x-python",
   "name": "python",
   "nbconvert_exporter": "python",
   "pygments_lexer": "ipython2",
   "version": "2.7.15"
  },
  "latex_envs": {
   "LaTeX_envs_menu_present": true,
   "autoclose": false,
   "autocomplete": true,
   "bibliofile": "biblio.bib",
   "cite_by": "apalike",
   "current_citInitial": 1,
   "eqLabelWithNumbers": true,
   "eqNumInitial": 1,
   "hotkeys": {
    "equation": "Ctrl-E",
    "itemize": "Ctrl-I"
   },
   "labels_anchors": false,
   "latex_user_defs": false,
   "report_style_numbering": false,
   "user_envs_cfg": false
  },
  "varInspector": {
   "cols": {
    "lenName": 16,
    "lenType": 16,
    "lenVar": 40
   },
   "kernels_config": {
    "python": {
     "delete_cmd_postfix": "",
     "delete_cmd_prefix": "del ",
     "library": "var_list.py",
     "varRefreshCmd": "print(var_dic_list())"
    },
    "r": {
     "delete_cmd_postfix": ") ",
     "delete_cmd_prefix": "rm(",
     "library": "var_list.r",
     "varRefreshCmd": "cat(var_dic_list()) "
    }
   },
   "types_to_exclude": [
    "module",
    "function",
    "builtin_function_or_method",
    "instance",
    "_Feature"
   ],
   "window_display": false
  }
 },
 "nbformat": 4,
 "nbformat_minor": 2
}
