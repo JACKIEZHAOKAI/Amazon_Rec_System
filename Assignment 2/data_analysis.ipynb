{
 "cells": [
  {
   "cell_type": "code",
   "execution_count": 1,
   "metadata": {
    "ExecuteTime": {
     "end_time": "2018-12-03T17:59:31.428311Z",
     "start_time": "2018-12-03T17:59:23.699270Z"
    }
   },
   "outputs": [],
   "source": [
    "import gzip\n",
    "from collections import defaultdict\n",
    "import numpy as np\n",
    "import pandas as pd\n",
    "import matplotlib.pyplot as plt\n",
    "from sklearn.utils import shuffle\n",
    "import random, heapq"
   ]
  },
  {
   "cell_type": "code",
   "execution_count": 3,
   "metadata": {
    "ExecuteTime": {
     "end_time": "2018-12-03T18:39:00.645888Z",
     "start_time": "2018-12-03T18:38:16.792328Z"
    }
   },
   "outputs": [
    {
     "name": "stdout",
     "output_type": "stream",
     "text": [
      "total number of reviews:  200000\n",
      "100000\n"
     ]
    }
   ],
   "source": [
    "##############################################################\n",
    "########### reading data into a pandas dataframe #############\n",
    "data = []\n",
    "userRatings = defaultdict(list)\n",
    "\n",
    "def readGz(f):\n",
    "    for l in gzip.open(f):\n",
    "        yield eval(l)\n",
    "#training and validation \n",
    "for l in readGz(\"train.json.gz\"):\n",
    "    data.append(l)\n",
    "\n",
    "print \"total number of reviews: \" , (len(data))\n",
    "df = pd.DataFrame.from_dict(data)\n",
    "\n",
    "\n",
    "validation_neg_pairs = set()\n",
    "for l in open(\"pairs_Purchase_neg.txt\",'r'):\n",
    "    if l.startswith(\"reviewerID\"):\n",
    "        #header\n",
    "        continue\n",
    "    u,i = l.strip().split('-')\n",
    "    validation_neg_pairs.add((u,i))\n",
    "    \n",
    "print(len(validation_neg_pairs))"
   ]
  },
  {
   "cell_type": "code",
   "execution_count": 7,
   "metadata": {
    "ExecuteTime": {
     "end_time": "2018-12-03T01:23:35.109987Z",
     "start_time": "2018-12-03T01:23:35.027809Z"
    }
   },
   "outputs": [],
   "source": [
    "timeTable = df['reviewTime'].value_counts()"
   ]
  },
  {
   "cell_type": "code",
   "execution_count": 47,
   "metadata": {
    "ExecuteTime": {
     "end_time": "2018-12-03T01:39:29.434963Z",
     "start_time": "2018-12-03T01:39:29.237698Z"
    }
   },
   "outputs": [],
   "source": [
    "yearList = ['2003', '2004', '2005', '2006', '2007', '2008', '2009', '2010', '2011', '2012', '2013', '2014']\n",
    "yearCount = {}\n",
    "for year in yearList:\n",
    "    yearCount[year] = 0\n",
    "    \n",
    "for i in range(2529):\n",
    "    for year in yearList:\n",
    "        if (timeTable.index[i].split()[2] == year):\n",
    "            yearCount[year] += int(timeTable[i])"
   ]
  },
  {
   "cell_type": "code",
   "execution_count": 48,
   "metadata": {
    "ExecuteTime": {
     "end_time": "2018-12-03T01:39:36.598134Z",
     "start_time": "2018-12-03T01:39:36.589537Z"
    },
    "scrolled": true
   },
   "outputs": [
    {
     "name": "stdout",
     "output_type": "stream",
     "text": [
      "['2003', '2004', '2005', '2006', '2007', '2008', '2009', '2010', '2011', '2012', '2013', '2014']\n",
      "{'2003': 2, '2006': 70, '2007': 301, '2004': 4, '2005': 18, '2014': 73447, '2008': 583, '2009': 1140, '2011': 6725, '2010': 2365, '2013': 92406, '2012': 22939}\n"
     ]
    }
   ],
   "source": [
    "print yearList\n",
    "print yearCount"
   ]
  },
  {
   "cell_type": "code",
   "execution_count": 59,
   "metadata": {
    "ExecuteTime": {
     "end_time": "2018-12-03T01:45:45.263135Z",
     "start_time": "2018-12-03T01:45:45.239162Z"
    }
   },
   "outputs": [
    {
     "data": {
      "text/plain": [
       "[('2003', 2),\n",
       " ('2004', 4),\n",
       " ('2005', 18),\n",
       " ('2006', 70),\n",
       " ('2007', 301),\n",
       " ('2008', 583),\n",
       " ('2009', 1140),\n",
       " ('2010', 2365),\n",
       " ('2011', 6725),\n",
       " ('2012', 22939),\n",
       " ('2013', 92406),\n",
       " ('2014', 73447)]"
      ]
     },
     "execution_count": 59,
     "metadata": {},
     "output_type": "execute_result"
    }
   ],
   "source": [
    "yearPairList"
   ]
  },
  {
   "cell_type": "code",
   "execution_count": 61,
   "metadata": {
    "ExecuteTime": {
     "end_time": "2018-12-03T01:48:10.270350Z",
     "start_time": "2018-12-03T01:48:10.254514Z"
    }
   },
   "outputs": [
    {
     "name": "stdout",
     "output_type": "stream",
     "text": [
      "[2, 4, 18, 70, 301, 583, 1140, 2365, 6725, 22939, 92406, 73447]\n"
     ]
    }
   ],
   "source": [
    "numList = []\n",
    "\n",
    "for pair in yearPairList:\n",
    "    numList.append(pair[1])\n",
    "print numList\n"
   ]
  },
  {
   "cell_type": "code",
   "execution_count": 65,
   "metadata": {
    "ExecuteTime": {
     "end_time": "2018-12-03T01:51:58.489327Z",
     "start_time": "2018-12-03T01:51:58.142474Z"
    }
   },
   "outputs": [
    {
     "data": {
      "image/png": "[encoded data removed]",
      "text/plain": [
       "<matplotlib.figure.Figure at 0xa37bf6e90>"
      ]
     },
     "metadata": {},
     "output_type": "display_data"
    }
   ],
   "source": [
    "import matplotlib.pyplot as plt\n",
    "\n",
    "plt.title(\"Number of reviews growth by years\")\n",
    "plt.xlabel(\"year\")\n",
    "plt.ylabel(\"Num of reviews\")\n",
    "plt.bar(range(len(yearList)), numList,color='rgb',tick_label=yearList)\n",
    "plt.show()\n"
   ]
  },
  {
   "cell_type": "code",
   "execution_count": null,
   "metadata": {},
   "outputs": [],
   "source": []
  },
  {
   "cell_type": "code",
   "execution_count": null,
   "metadata": {},
   "outputs": [],
   "source": []
  },
  {
   "cell_type": "code",
   "execution_count": null,
   "metadata": {},
   "outputs": [],
   "source": []
  },
  {
   "cell_type": "code",
   "execution_count": 69,
   "metadata": {
    "ExecuteTime": {
     "end_time": "2018-12-03T02:36:29.737775Z",
     "start_time": "2018-12-03T02:36:29.718177Z"
    }
   },
   "outputs": [],
   "source": [
    "ratingTable= df['rating'].value_counts()"
   ]
  },
  {
   "cell_type": "code",
   "execution_count": 79,
   "metadata": {
    "ExecuteTime": {
     "end_time": "2018-12-03T02:40:03.188238Z",
     "start_time": "2018-12-03T02:40:03.179042Z"
    }
   },
   "outputs": [],
   "source": [
    "ratingList = list(ratingTable)"
   ]
  },
  {
   "cell_type": "code",
   "execution_count": 250,
   "metadata": {
    "ExecuteTime": {
     "end_time": "2018-12-03T08:36:16.636823Z",
     "start_time": "2018-12-03T08:36:16.328352Z"
    }
   },
   "outputs": [
    {
     "data": {
      "image/png": "[encoded data removed]",
      "text/plain": [
       "<matplotlib.figure.Figure at 0xa379f10d0>"
      ]
     },
     "metadata": {},
     "output_type": "display_data"
    }
   ],
   "source": [
    "name = [1.0,2.0,3.0,4.0,5.0]\n",
    "name.reverse()\n",
    "plt.title(\"Rating Distribution\")\n",
    "plt.xlabel(\"rating\")\n",
    "plt.ylabel(\"Num of reviews\")\n",
    "plt.bar(range(len(name)), ratingList,color='rgbcm',tick_label=name)\n",
    "plt.show()"
   ]
  },
  {
   "cell_type": "code",
   "execution_count": null,
   "metadata": {},
   "outputs": [],
   "source": []
  },
  {
   "cell_type": "code",
   "execution_count": null,
   "metadata": {},
   "outputs": [],
   "source": []
  },
  {
   "cell_type": "code",
   "execution_count": 173,
   "metadata": {
    "ExecuteTime": {
     "end_time": "2018-12-03T03:23:01.171819Z",
     "start_time": "2018-12-03T03:23:01.140519Z"
    }
   },
   "outputs": [],
   "source": [
    "priceTable = df['price'].value_counts()"
   ]
  },
  {
   "cell_type": "code",
   "execution_count": 174,
   "metadata": {
    "ExecuteTime": {
     "end_time": "2018-12-03T03:23:09.140041Z",
     "start_time": "2018-12-03T03:23:09.129700Z"
    }
   },
   "outputs": [
    {
     "name": "stdout",
     "output_type": "stream",
     "text": [
      "74111\n"
     ]
    }
   ],
   "source": [
    "count = 0\n",
    "for key in priceTable:\n",
    "     count += key\n",
    "print count"
   ]
  },
  {
   "cell_type": "code",
   "execution_count": 211,
   "metadata": {
    "ExecuteTime": {
     "end_time": "2018-12-03T04:21:59.270382Z",
     "start_time": "2018-12-03T04:21:59.259389Z"
    }
   },
   "outputs": [],
   "source": [
    "priceRange = ['(0,10]','(10,20]','(20,30]','(30,40]','(40+]']\n",
    "pricebound = [0,10,20,30,40]\n",
    "priceDict = {}\n",
    "\n",
    "for price in pricebound:\n",
    "    priceDict[price] = 0\n",
    "    "
   ]
  },
  {
   "cell_type": "code",
   "execution_count": 212,
   "metadata": {
    "ExecuteTime": {
     "end_time": "2018-12-03T04:22:06.067031Z",
     "start_time": "2018-12-03T04:22:06.057813Z"
    }
   },
   "outputs": [
    {
     "name": "stdout",
     "output_type": "stream",
     "text": [
      "{0: 0, 40: 0, 10: 0, 20: 0, 30: 0}\n"
     ]
    }
   ],
   "source": [
    "print priceDict"
   ]
  },
  {
   "cell_type": "code",
   "execution_count": 213,
   "metadata": {
    "ExecuteTime": {
     "end_time": "2018-12-03T04:22:31.581780Z",
     "start_time": "2018-12-03T04:22:31.429329Z"
    }
   },
   "outputs": [
    {
     "name": "stdout",
     "output_type": "stream",
     "text": [
      "{0: 24461, 40: 0, 10: 20242, 20: 12264, 30: 6444}\n",
      "63411\n"
     ]
    }
   ],
   "source": [
    "keys = priceTable.keys()\n",
    "counter = 0\n",
    "\n",
    "for price in keys:\n",
    "    for j in range(4):\n",
    "        if (price > pricebound[j] and price < pricebound[j+1]):\n",
    "            priceDict[ pricebound[j] ] += int(priceTable[price])\n",
    "            counter += int(priceTable[price]) \n",
    "            \n",
    "print priceDict\n",
    "print (counter)"
   ]
  },
  {
   "cell_type": "code",
   "execution_count": 214,
   "metadata": {
    "ExecuteTime": {
     "end_time": "2018-12-03T04:22:39.346387Z",
     "start_time": "2018-12-03T04:22:39.338147Z"
    }
   },
   "outputs": [
    {
     "name": "stdout",
     "output_type": "stream",
     "text": [
      "{0: 24461, 40: 10700, 10: 20242, 20: 12264, 30: 6444}\n"
     ]
    }
   ],
   "source": [
    "priceDict[40] = 74111 - 63411\n",
    "print priceDict"
   ]
  },
  {
   "cell_type": "code",
   "execution_count": 218,
   "metadata": {
    "ExecuteTime": {
     "end_time": "2018-12-03T04:24:05.497328Z",
     "start_time": "2018-12-03T04:24:05.479073Z"
    }
   },
   "outputs": [],
   "source": [
    "pricePair = []\n",
    "for i in priceDict:\n",
    "    pricePair.append( (i,priceDict[i]) )\n",
    "pricePair.sort()"
   ]
  },
  {
   "cell_type": "code",
   "execution_count": 219,
   "metadata": {
    "ExecuteTime": {
     "end_time": "2018-12-03T04:24:12.240638Z",
     "start_time": "2018-12-03T04:24:12.226125Z"
    }
   },
   "outputs": [
    {
     "name": "stdout",
     "output_type": "stream",
     "text": [
      "[(0, 24461), (10, 20242), (20, 12264), (30, 6444), (40, 10700)]\n"
     ]
    }
   ],
   "source": [
    "print pricePair"
   ]
  },
  {
   "cell_type": "code",
   "execution_count": 246,
   "metadata": {
    "ExecuteTime": {
     "end_time": "2018-12-03T08:33:02.581553Z",
     "start_time": "2018-12-03T08:33:02.251329Z"
    }
   },
   "outputs": [
    {
     "data": {
      "image/png": "[encoded data removed]",
      "text/plain": [
       "<matplotlib.figure.Figure at 0x1102d05d0>"
      ]
     },
     "metadata": {},
     "output_type": "display_data"
    }
   ],
   "source": [
    "temp = [24461,20242,12264,6444,10700]\n",
    "plt.title(\"Pricing Distribution\")\n",
    "plt.xlabel(\"price range\")\n",
    "plt.ylabel(\"Num of reviews\")\n",
    "plt.bar(range(len(priceRange)), temp,color='rgbcm',tick_label=priceRange)\n",
    "plt.show()"
   ]
  },
  {
   "cell_type": "code",
   "execution_count": 235,
   "metadata": {
    "ExecuteTime": {
     "end_time": "2018-12-03T08:20:09.538644Z",
     "start_time": "2018-12-03T08:20:09.510877Z"
    }
   },
   "outputs": [
    {
     "data": {
      "text/plain": [
       "0    141398\n",
       "1     51416\n",
       "4      2976\n",
       "2      2329\n",
       "3      1881\n",
       "Name: categoryID, dtype: int64"
      ]
     },
     "execution_count": 235,
     "metadata": {},
     "output_type": "execute_result"
    }
   ],
   "source": [
    "df.categoryID.value_counts()"
   ]
  },
  {
   "cell_type": "code",
   "execution_count": 249,
   "metadata": {
    "ExecuteTime": {
     "end_time": "2018-12-03T08:36:02.726691Z",
     "start_time": "2018-12-03T08:36:02.320571Z"
    },
    "scrolled": true
   },
   "outputs": [
    {
     "data": {
      "image/png": "[encoded data removed]",
      "text/plain": [
       "<matplotlib.figure.Figure at 0xa345f35d0>"
      ]
     },
     "metadata": {},
     "output_type": "display_data"
    }
   ],
   "source": [
    "temp = [0,1,2,3,4]\n",
    "Category_num = [141398,51416,2329, 1881,2976]\n",
    "\n",
    "plt.title(\"Category Distribution\")\n",
    "plt.xlabel(\"category\")\n",
    "plt.ylabel(\"Num of reviews\")\n",
    "plt.bar(range(5), Category_num,color='rgbcm',tick_label=temp)\n",
    "plt.show()"
   ]
  },
  {
   "cell_type": "code",
   "execution_count": null,
   "metadata": {},
   "outputs": [],
   "source": []
  },
  {
   "cell_type": "markdown",
   "metadata": {},
   "source": [
    "## review recomended"
   ]
  },
  {
   "cell_type": "code",
   "execution_count": 4,
   "metadata": {
    "ExecuteTime": {
     "end_time": "2018-12-03T18:39:05.994755Z",
     "start_time": "2018-12-03T18:39:05.957311Z"
    }
   },
   "outputs": [
    {
     "data": {
      "text/plain": [
       "0    {u'nHelpful': 0, u'outOf': 0}\n",
       "1    {u'nHelpful': 0, u'outOf': 0}\n",
       "2    {u'nHelpful': 0, u'outOf': 0}\n",
       "3    {u'nHelpful': 0, u'outOf': 0}\n",
       "4    {u'nHelpful': 1, u'outOf': 1}\n",
       "Name: helpful, dtype: object"
      ]
     },
     "execution_count": 4,
     "metadata": {},
     "output_type": "execute_result"
    }
   ],
   "source": [
    "df['helpful'].head()"
   ]
  },
  {
   "cell_type": "code",
   "execution_count": 5,
   "metadata": {
    "ExecuteTime": {
     "end_time": "2018-12-03T18:39:10.898905Z",
     "start_time": "2018-12-03T18:39:10.354477Z"
    }
   },
   "outputs": [
    {
     "name": "stdout",
     "output_type": "stream",
     "text": [
      "{u'nHelpful': 0, u'outOf': 0}    136935\n",
      "{u'nHelpful': 1, u'outOf': 1}     21673\n",
      "{u'nHelpful': 0, u'outOf': 1}      6906\n",
      "{u'nHelpful': 2, u'outOf': 2}      6605\n",
      "{u'nHelpful': 1, u'outOf': 2}      4719\n",
      "Name: helpful, dtype: int64\n"
     ]
    }
   ],
   "source": [
    "helpfulDict = df['helpful'].value_counts()\n",
    "\n",
    "print helpfulDict.head()"
   ]
  },
  {
   "cell_type": "code",
   "execution_count": 42,
   "metadata": {
    "ExecuteTime": {
     "end_time": "2018-12-03T18:55:55.793290Z",
     "start_time": "2018-12-03T18:55:55.779726Z"
    }
   },
   "outputs": [],
   "source": [
    "rateList =[]\n",
    "\n",
    "for idx in range(len(helpfulDict)):\n",
    "    if helpfulDict.index[idx]['outOf']is not 0:\n",
    "        rate = float(helpfulDict.index[idx]['nHelpful'])/float(helpfulDict.index[idx]['outOf'])\n",
    "        rateList.append(rate)"
   ]
  },
  {
   "cell_type": "code",
   "execution_count": 43,
   "metadata": {
    "ExecuteTime": {
     "end_time": "2018-12-03T18:55:59.671713Z",
     "start_time": "2018-12-03T18:55:59.659477Z"
    }
   },
   "outputs": [
    {
     "data": {
      "text/plain": [
       "764"
      ]
     },
     "execution_count": 43,
     "metadata": {},
     "output_type": "execute_result"
    }
   ],
   "source": [
    "len(rateList)"
   ]
  },
  {
   "cell_type": "code",
   "execution_count": 44,
   "metadata": {
    "ExecuteTime": {
     "end_time": "2018-12-03T18:56:03.389191Z",
     "start_time": "2018-12-03T18:56:03.384048Z"
    }
   },
   "outputs": [],
   "source": [
    "rateList.sort()"
   ]
  },
  {
   "cell_type": "code",
   "execution_count": 45,
   "metadata": {
    "ExecuteTime": {
     "end_time": "2018-12-03T18:56:13.574013Z",
     "start_time": "2018-12-03T18:56:13.547816Z"
    }
   },
   "outputs": [],
   "source": [
    "namelist = ['[0,0.2}','[0.2,0.4)','[0.4,0.6)','[0.6,0.8)','[0.8,1.0]',]\n",
    "tempList = [0, .2, .4, .6, .8]\n",
    "rateNumberList = [0,0,0,0,0]\n",
    "\n",
    "for rate in rateList:\n",
    "    for j in range(4):\n",
    "        if (rate >= tempList[j] and rate < tempList[j+1]):\n",
    "            rateNumberList[j] += 1\n",
    "    "
   ]
  },
  {
   "cell_type": "code",
   "execution_count": 47,
   "metadata": {
    "ExecuteTime": {
     "end_time": "2018-12-03T18:56:18.733191Z",
     "start_time": "2018-12-03T18:56:18.725465Z"
    }
   },
   "outputs": [
    {
     "name": "stdout",
     "output_type": "stream",
     "text": [
      "[51, 35, 31, 114, 0]\n"
     ]
    }
   ],
   "source": [
    "print rateNumberList"
   ]
  },
  {
   "cell_type": "code",
   "execution_count": 48,
   "metadata": {
    "ExecuteTime": {
     "end_time": "2018-12-03T18:57:03.274913Z",
     "start_time": "2018-12-03T18:57:03.260577Z"
    }
   },
   "outputs": [],
   "source": [
    "rateNumberList[4] = (533)"
   ]
  },
  {
   "cell_type": "code",
   "execution_count": 49,
   "metadata": {
    "ExecuteTime": {
     "end_time": "2018-12-03T18:57:14.498792Z",
     "start_time": "2018-12-03T18:57:14.488497Z"
    }
   },
   "outputs": [
    {
     "name": "stdout",
     "output_type": "stream",
     "text": [
      "[51, 35, 31, 114, 533]\n"
     ]
    }
   ],
   "source": [
    "print rateNumberList"
   ]
  },
  {
   "cell_type": "code",
   "execution_count": null,
   "metadata": {},
   "outputs": [],
   "source": [
    "\n",
    "\n",
    "plt.title(\"Recommended by Others Distribution\")\n",
    "plt.xlabel(\"category\")\n",
    "plt.ylabel(\"Num of reviews\")\n",
    "plt.bar(range(5), Category_num,color='rgbcm',tick_label=namelist)\n",
    "plt.show()"
   ]
  },
  {
   "cell_type": "code",
   "execution_count": null,
   "metadata": {},
   "outputs": [],
   "source": []
  },
  {
   "cell_type": "code",
   "execution_count": null,
   "metadata": {},
   "outputs": [],
   "source": []
  },
  {
   "cell_type": "code",
   "execution_count": 3,
   "metadata": {
    "ExecuteTime": {
     "end_time": "2018-12-03T23:23:14.043314Z",
     "start_time": "2018-12-03T23:23:14.037046Z"
    }
   },
   "outputs": [],
   "source": [
    "import matplotlib.pyplot as plt\n",
    "\n",
    "name = [ \"Base\",'Bayes', 'Logistic',  'LinearSVC', 'KNN', 'Latent Factor']\n",
    "Accuracy = [0.3993, 0.5237, 0.6563, 0.6440, 0.5809, 0.4306]\n"
   ]
  },
  {
   "cell_type": "code",
   "execution_count": 8,
   "metadata": {
    "ExecuteTime": {
     "end_time": "2018-12-03T23:23:37.589980Z",
     "start_time": "2018-12-03T23:23:37.253861Z"
    }
   },
   "outputs": [
    {
     "data": {
      "image/png": "[encoded data removed]",
      "text/plain": [
       "<matplotlib.figure.Figure at 0x113db32d0>"
      ]
     },
     "metadata": {},
     "output_type": "display_data"
    }
   ],
   "source": [
    "\n",
    "plt.title(\" Performance Comparison\")\n",
    "plt.xlabel(\"models\")\n",
    "plt.ylabel(\"Num of reviews\")\n",
    "plt.bar(range(6), Accuracy,color='rgbcmk',tick_label=name)\n",
    "plt.show()"
   ]
  },
  {
   "cell_type": "code",
   "execution_count": null,
   "metadata": {},
   "outputs": [],
   "source": []
  },
  {
   "cell_type": "code",
   "execution_count": null,
   "metadata": {},
   "outputs": [],
   "source": []
  }
 ],
 "metadata": {
  "kernelspec": {
   "display_name": "Python 2",
   "language": "python",
   "name": "python2"
  },
  "language_info": {
   "codemirror_mode": {
    "name": "ipython",
    "version": 2
   },
   "file_extension": ".py",
   "mimetype": "text/x-python",
   "name": "python",
   "nbconvert_exporter": "python",
   "pygments_lexer": "ipython2",
   "version": "2.7.15"
  },
  "latex_envs": {
   "LaTeX_envs_menu_present": true,
   "autoclose": false,
   "autocomplete": true,
   "bibliofile": "biblio.bib",
   "cite_by": "apalike",
   "current_citInitial": 1,
   "eqLabelWithNumbers": true,
   "eqNumInitial": 1,
   "hotkeys": {
    "equation": "Ctrl-E",
    "itemize": "Ctrl-I"
   },
   "labels_anchors": false,
   "latex_user_defs": false,
   "report_style_numbering": false,
   "user_envs_cfg": false
  },
  "varInspector": {
   "cols": {
    "lenName": 16,
    "lenType": 16,
    "lenVar": 40
   },
   "kernels_config": {
    "python": {
     "delete_cmd_postfix": "",
     "delete_cmd_prefix": "del ",
     "library": "var_list.py",
     "varRefreshCmd": "print(var_dic_list())"
    },
    "r": {
     "delete_cmd_postfix": ") ",
     "delete_cmd_prefix": "rm(",
     "library": "var_list.r",
     "varRefreshCmd": "cat(var_dic_list()) "
    }
   },
   "types_to_exclude": [
    "module",
    "function",
    "builtin_function_or_method",
    "instance",
    "_Feature"
   ],
   "window_display": false
  }
 },
 "nbformat": 4,
 "nbformat_minor": 2
}
